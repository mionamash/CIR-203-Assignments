{
  "nbformat": 4,
  "nbformat_minor": 0,
  "metadata": {
    "colab": {
      "provenance": [],
      "authorship_tag": "ABX9TyNCl7dJ0iigOzUhX5/rjD/C",
      "include_colab_link": true
    },
    "kernelspec": {
      "name": "python3",
      "display_name": "Python 3"
    },
    "language_info": {
      "name": "python"
    }
  },
  "cells": [
    {
      "cell_type": "markdown",
      "metadata": {
        "id": "view-in-github",
        "colab_type": "text"
      },
      "source": [
        "<a href=\"https://colab.research.google.com/github/mionamash/CIR-203-Assignments/blob/main/Tuples_in_Medical_Records(Healthcare_Sector).ipynb\" target=\"_parent\"><img src=\"https://colab.research.google.com/assets/colab-badge.svg\" alt=\"Open In Colab\"/></a>"
      ]
    },
    {
      "cell_type": "code",
      "execution_count": null,
      "metadata": {
        "colab": {
          "base_uri": "https://localhost:8080/"
        },
        "id": "Nmshqisz8o5F",
        "outputId": "ac779545-e768-455c-b8a6-e5638660085b"
      },
      "outputs": [
        {
          "output_type": "stream",
          "name": "stdout",
          "text": [
            "Patient Record:\n",
            " ('Alice Wahome', 45, '120/80', 72)\n",
            "Patient age: 45\n",
            "Patient heart rate: 72\n",
            "Updated Patient Record:\n",
            " ('Alice Wahome', 45, '120/80', 78)\n",
            "Patient Names:\n",
            " ['Priya Khan', 'Diana Smith', 'Sarah Lee', 'John Doe', 'Eric Latiff']\n"
          ]
        }
      ],
      "source": [
        "Patient=(\"Alice Wahome\",45,\"120/80\",72)\n",
        "print(\"Patient Record:\\n\",Patient)\n",
        "Patiente_age=Patient[1]\n",
        "Patient_heart_rate=Patient[3]\n",
        "print(\"Patient age:\",Patiente_age)\n",
        "print(\"Patient heart rate:\",Patient_heart_rate)\n",
        "Patient_list=list(Patient)\n",
        "Patient_list[3]=78\n",
        "Patient=tuple(Patient_list)\n",
        "print(\"Updated Patient Record:\\n\",Patient)\n",
        "Patient=(\n",
        "    (\"Priya Khan\",30,\"110/70\",68),\n",
        "    (\"Diana Smith\",52,\"130/85\",75),\n",
        "    (\"Sarah Lee\",40,\"125/80\",70),\n",
        "    (\"John Doe\",28,\"115/75\",65),\n",
        "    (\"Eric Latiff\",60,\"140/90\",80)\n",
        ")\n",
        "names=[P[0]for P in Patient]\n",
        "print(\"Patient Names:\\n\",names)"
      ]
    }
  ]
}