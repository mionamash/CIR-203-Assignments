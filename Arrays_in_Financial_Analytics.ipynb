{
  "nbformat": 4,
  "nbformat_minor": 0,
  "metadata": {
    "colab": {
      "provenance": [],
      "authorship_tag": "ABX9TyPjMjrH2WebNdrZEcG3jbW7",
      "include_colab_link": true
    },
    "kernelspec": {
      "name": "python3",
      "display_name": "Python 3"
    },
    "language_info": {
      "name": "python"
    }
  },
  "cells": [
    {
      "cell_type": "markdown",
      "metadata": {
        "id": "view-in-github",
        "colab_type": "text"
      },
      "source": [
        "<a href=\"https://colab.research.google.com/github/mionamash/CIR-203-Assignments/blob/main/Arrays_in_Financial_Analytics.ipynb\" target=\"_parent\"><img src=\"https://colab.research.google.com/assets/colab-badge.svg\" alt=\"Open In Colab\"/></a>"
      ]
    },
    {
      "cell_type": "code",
      "execution_count": null,
      "metadata": {
        "colab": {
          "base_uri": "https://localhost:8080/"
        },
        "id": "R0RtxYabkBIM",
        "outputId": "cad83dd9-1b53-4a6a-ee08-3dd59f39cabf"
      },
      "outputs": [
        {
          "output_type": "stream",
          "name": "stdout",
          "text": [
            "transactions_data:\n",
            " [[1200 1500 1600 1800 1700 2000]\n",
            " [1000 1100 1150 1200 1250 1300]\n",
            " [2000 2100 2200 2300 2400 2500]\n",
            " [ 800  950 1000 1050 1100 1150]]\n",
            "total_per_branch:\n",
            " [ 9800  7000 13500  6050]\n",
            "highest_branch: 3\n",
            "avg_monthly:\n",
            " [1250.  1412.5 1487.5 1587.5 1612.5 1737.5]\n",
            "Reshaped Array (3×8):\n",
            " [[1200 1500 1600 1800 1700 2000 1000 1100]\n",
            " [1150 1200 1250 1300 2000 2100 2200 2300]\n",
            " [2400 2500  800  950 1000 1050 1100 1150]]\n"
          ]
        }
      ],
      "source": [
        "import numpy as np\n",
        "transactions_data=np.array([\n",
        "    [1200,1500,1600,1800,1700,2000],\n",
        "    [1000,1100,1150,1200,1250,1300],\n",
        "    [2000,2100,2200,2300,2400,2500],\n",
        "    [800,950,1000,1050,1100,1150]\n",
        "])\n",
        "print(\"transactions_data:\\n\",transactions_data)\n",
        "total_per_branch=np.sum(transactions_data,axis=1)\n",
        "print(\"total_per_branch:\\n\",total_per_branch)\n",
        "highest_branch=np.argmax(total_per_branch)+1\n",
        "print(\"highest_branch:\",highest_branch)\n",
        "avg_monthly=np.mean(transactions_data,axis=0)\n",
        "print(\"avg_monthly:\\n\",avg_monthly)\n",
        "reshape=transactions_data.reshape(3,8)\n",
        "print(\"Reshaped Array (3×8):\\n\", reshape)\n"
      ]
    },
    {
      "cell_type": "code",
      "source": [
        "from google.colab import drive\n",
        "drive.mount('/content/drive')"
      ],
      "metadata": {
        "id": "-0U9-Aw3vRhF"
      },
      "execution_count": null,
      "outputs": []
    }
  ]
}