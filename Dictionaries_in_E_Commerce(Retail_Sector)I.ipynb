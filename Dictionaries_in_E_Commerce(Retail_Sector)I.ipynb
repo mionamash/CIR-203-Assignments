{
  "nbformat": 4,
  "nbformat_minor": 0,
  "metadata": {
    "colab": {
      "provenance": [],
      "authorship_tag": "ABX9TyO0mPqTRzG7x+w6D7kEL6HN",
      "include_colab_link": true
    },
    "kernelspec": {
      "name": "python3",
      "display_name": "Python 3"
    },
    "language_info": {
      "name": "python"
    }
  },
  "cells": [
    {
      "cell_type": "markdown",
      "metadata": {
        "id": "view-in-github",
        "colab_type": "text"
      },
      "source": [
        "<a href=\"https://colab.research.google.com/github/mionamash/CIR-203-Assignments/blob/main/Dictionaries_in_E_Commerce(Retail_Sector)I.ipynb\" target=\"_parent\"><img src=\"https://colab.research.google.com/assets/colab-badge.svg\" alt=\"Open In Colab\"/></a>"
      ]
    },
    {
      "cell_type": "code",
      "execution_count": null,
      "metadata": {
        "colab": {
          "base_uri": "https://localhost:8080/"
        },
        "id": "sVcqMui-E7t5",
        "outputId": "8dbe7db1-6524-4ec5-a29e-7131575ff1a3"
      },
      "outputs": [
        {
          "output_type": "stream",
          "name": "stdout",
          "text": [
            "Initial Inventory: {'Laptop': 15, 'Headphones': 8, 'Smartphone': 25, 'Keyboard': 5, 'Monitor': 12}\n",
            "\n",
            "After Add & Update: {'Laptop': 18, 'Headphones': 8, 'Smartphone': 25, 'Keyboard': 5, 'Monitor': 12, 'Mouse': 20}\n",
            "\n",
            "Low Stock Products: ['Headphones', 'Keyboard']\n",
            "\n",
            "After Deletion: {'Laptop': 18, 'Headphones': 8, 'Smartphone': 25, 'Monitor': 12, 'Mouse': 20}\n",
            "\n",
            "Inventory List:\n",
            "Laptop: 18\n",
            "Headphones: 8\n",
            "Smartphone: 25\n",
            "Monitor: 12\n",
            "Mouse: 20\n"
          ]
        }
      ],
      "source": [
        "inventory = {\n",
        "    \"Laptop\": 15,\n",
        "    \"Headphones\": 8,\n",
        "    \"Smartphone\": 25,\n",
        "    \"Keyboard\": 5,\n",
        "    \"Monitor\": 12\n",
        "}\n",
        "print(\"Initial Inventory:\", inventory)\n",
        "inventory[\"Mouse\"] = 20\n",
        "inventory[\"Laptop\"] = 18\n",
        "print(\"\\nAfter Add & Update:\", inventory)\n",
        "def low_stock_products(inv):\n",
        "    return [product for product, qty in inv.items() if qty < 10]\n",
        "\n",
        "print(\"\\nLow Stock Products:\", low_stock_products(inventory))\n",
        "del inventory[\"Keyboard\"]\n",
        "print(\"\\nAfter Deletion:\", inventory)\n",
        "print(\"\\nInventory List:\")\n",
        "for product, qty in inventory.items():\n",
        "    print(f\"{product}: {qty}\")\n"
      ]
    }
  ]
}