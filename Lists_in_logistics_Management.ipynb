{
  "nbformat": 4,
  "nbformat_minor": 0,
  "metadata": {
    "colab": {
      "provenance": [],
      "authorship_tag": "ABX9TyOBIGamAd5JVwqy+828szJI",
      "include_colab_link": true
    },
    "kernelspec": {
      "name": "python3",
      "display_name": "Python 3"
    },
    "language_info": {
      "name": "python"
    }
  },
  "cells": [
    {
      "cell_type": "markdown",
      "metadata": {
        "id": "view-in-github",
        "colab_type": "text"
      },
      "source": [
        "<a href=\"https://colab.research.google.com/github/mionamash/CIR-203-Assignments/blob/main/Lists_in_logistics_Management.ipynb\" target=\"_parent\"><img src=\"https://colab.research.google.com/assets/colab-badge.svg\" alt=\"Open In Colab\"/></a>"
      ]
    },
    {
      "cell_type": "code",
      "execution_count": null,
      "metadata": {
        "colab": {
          "base_uri": "https://localhost:8080/"
        },
        "id": "hYDjIn-byPuo",
        "outputId": "dc5c6783-c0c7-4945-a202-c79cfa79008d"
      },
      "outputs": [
        {
          "output_type": "stream",
          "name": "stdout",
          "text": [
            "Initial routes:\n",
            " ['Downtown Nairobi', 'Thika-Meru', 'Nairobi-Nakuru', 'Kileleshwa-Lavington', 'Naivasha-Nakuru', 'Kisumu-Busia', 'Nyeri-Nanyuki', 'Nairobi-Mombasa', 'Bungoma-Kakamega', 'Machakos-Makueni']\n",
            "After adding &removing:\n",
            " ['Downtown Nairobi', 'Nairobi-Nakuru', 'Kileleshwa-Lavington', 'Naivasha-Nakuru', 'Kisumu-Busia', 'Nyeri-Nanyuki', 'Nairobi-Mombasa', 'Bungoma-Kakamega', 'Machakos-Makueni', 'Karen-Loresho']\n",
            "After sorting:\n",
            " ['Bungoma-Kakamega', 'Downtown Nairobi', 'Karen-Loresho', 'Kileleshwa-Lavington', 'Kisumu-Busia', 'Machakos-Makueni', 'Nairobi-Mombasa', 'Nairobi-Nakuru', 'Naivasha-Nakuru', 'Nyeri-Nanyuki']\n",
            "After reversing:\n",
            " ['Nyeri-Nanyuki', 'Naivasha-Nakuru', 'Nairobi-Nakuru', 'Nairobi-Mombasa', 'Machakos-Makueni', 'Kisumu-Busia', 'Kileleshwa-Lavington', 'Karen-Loresho', 'Downtown Nairobi', 'Bungoma-Kakamega']\n",
            "Number of routes starting with N: 4\n",
            "route longer than 10 characters:\n",
            " ['Nyeri-Nanyuki', 'Naivasha-Nakuru', 'Nairobi-Nakuru', 'Nairobi-Mombasa', 'Machakos-Makueni', 'Kisumu-Busia', 'Kileleshwa-Lavington', 'Karen-Loresho', 'Downtown Nairobi', 'Bungoma-Kakamega']\n"
          ]
        }
      ],
      "source": [
        "delivery_routes=[\"Downtown Nairobi\",\"Thika-Meru\",\"Nairobi-Nakuru\",\"Kileleshwa-Lavington\",\"Naivasha-Nakuru\",\"Kisumu-Busia\",\"Nyeri-Nanyuki\",\"Nairobi-Mombasa\",\"Bungoma-Kakamega\",\"Machakos-Makueni\"]\n",
        "print(\"Initial routes:\\n\",delivery_routes)\n",
        "delivery_routes.append(\"Karen-Loresho\")\n",
        "delivery_routes.remove(\"Thika-Meru\")\n",
        "print(\"After adding &removing:\\n\",delivery_routes)\n",
        "delivery_routes.sort()\n",
        "print(\"After sorting:\\n\",delivery_routes)\n",
        "delivery_routes.reverse()\n",
        "print(\"After reversing:\\n\",delivery_routes)\n",
        "n_route_count=0\n",
        "for route in delivery_routes:\n",
        "    if route.startswith(\"N\"):\n",
        "        n_route_count+=1\n",
        "print(\"Number of routes starting with N:\",n_route_count)\n",
        "Long_route=[route for route in delivery_routes if len(route)>10]\n",
        "print(\"route longer than 10 characters:\\n\",Long_route)\n",
        "\n"
      ]
    }
  ]
}